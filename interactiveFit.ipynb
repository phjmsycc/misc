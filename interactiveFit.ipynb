{
 "cells": [
  {
   "cell_type": "markdown",
   "metadata": {},
   "source": [
    "# インタラクティブに関数をフィットする方法\n",
    "\n",
    "関数のフィッティングは一般にめんどくさいですが、少しでも楽にするために**<span style=\"color: magenta; \">Fitする対象の点を目視しながら選ぶ</span>**ようにするコードを作成しました。\n",
    "\n",
    "また、今回のコードは基本的に\n",
    "\n",
    "- [[SciPy] 9. フィッティング範囲をipywidgetsでインタラクティブに変化させてcurve_fit](https://sabopy.com/py/scipy-9/)\n",
    "\n",
    "- [[ipywidgets] 17. tabで複数のwidgetsを整理して表示](https://sabopy.com/py/ipywidgets-17/)\n",
    "\n",
    "の内容をフォローしたものです。"
   ]
  },
  {
   "cell_type": "markdown",
   "metadata": {},
   "source": [
    "## はじめに\n",
    "---\n",
    "\n",
    "pythonおよびjupyterlabのインストールをしておく必要があります。詳しくは\n",
    "\n",
    "- [JupyterLabのすゝめ](https://qiita.com/kirikei/items/a1639954ce5ccaf7ac3c)\n",
    "\n",
    "- [図解！Jupyter Labを徹底解説！(インストール・使い方・拡張機能)](https://ai-inter1.com/jupyter-lab/)\n",
    "\n",
    "などを参照すると良いでしょう。\n",
    "\n",
    "以下、python3をpip3で構築していると仮定して記述します。"
   ]
  },
  {
   "cell_type": "markdown",
   "metadata": {},
   "source": [
    "## モジュールのimport\n",
    "---\n",
    "\n",
    "事前にpythonの各モジュールをPCにインストールしておく必要があります。\n",
    "\n",
    "### numpy\n",
    "\n",
    "```\n",
    "$ pip3 install numpy\n",
    "```\n",
    "\n",
    "### matplotlib\n",
    "\n",
    "```\n",
    "$ pip3 install matplotlib\n",
    "$ jupyter labextension install jupyter-matplotlib\n",
    "```\n",
    "\n",
    "### scipy\n",
    "\n",
    "```\n",
    "$ pip3 install scipy\n",
    "```\n",
    "\n",
    "### ipywidgets\n",
    "\n",
    "```\n",
    "$ pip3 install ipywidgets\n",
    "$ jupyter labextension install @jupyter-widgets/jupyterlab-manager\n",
    "$ jupyter serverextension enable --py --sys-prefix widgetsnbextension\n",
    "```\n",
    "\n",
    "以上の環境が整った上で、モジュールをimportします。"
   ]
  },
  {
   "cell_type": "code",
   "execution_count": 7,
   "metadata": {},
   "outputs": [],
   "source": [
    "%matplotlib widget\n",
    "%config InlineBackend.figure_format = 'retina'\n",
    "\n",
    "import numpy as np\n",
    "import matplotlib as mpl\n",
    "import matplotlib.pyplot as plt\n",
    "from scipy import optimize\n",
    "from matplotlib.gridspec import GridSpec\n",
    "\n",
    "from ipywidgets import interact,interactive,IntSlider,HBox,VBox,Text, Tab,IntRangeSlider\n",
    "from IPython.display import display\n",
    "\n",
    "plt.style.use('default')"
   ]
  },
  {
   "cell_type": "markdown",
   "metadata": {},
   "source": [
    "## データファイルの読み込み\n",
    "---\n",
    "このサンプルでは、\n",
    "```\n",
    "軸1 データ点1 データ点2 データ点3 データ点4\n",
    "```\n",
    "という構造になっているサンプルファイル[test.dat](https://ness1.sci.ibaraki.ac.jp/usefull/test.dat)を使用します。"
   ]
  },
  {
   "cell_type": "code",
   "execution_count": 108,
   "metadata": {},
   "outputs": [],
   "source": [
    "data_axis1, data_value1, data_value2, data_value3, data_value4 = np.loadtxt(\"./test.dat\", unpack=True)"
   ]
  },
  {
   "cell_type": "markdown",
   "metadata": {},
   "source": [
    "## 関数の定義\n",
    "---\n",
    "\n",
    "- `func_cn(x, a)`\n",
    "\n",
    "$$\n",
    "f(x) = a x^n\n",
    "$$\n",
    "\n",
    "を定義しています。\n",
    "\n",
    "- `plot(x_range1, x_range2, x_range3, x_range4)`\n",
    "\n",
    "この関数がインタラクティブFitの設定になっています。\n",
    "\n",
    "`start, end` : データ点の範囲指定\n",
    "\n",
    "`popt, pcov` : 推定パラメーター値・共分散\n",
    "\n",
    "`optimize.curve_fit` : 最小二乗法によるフィッティング\n",
    "\n",
    "`y_cf` : 最適化後の関数\n",
    "\n",
    "`l` : `y_cf`の描画（後述）\n",
    "\n",
    "`p` : データ点の描画（後述）"
   ]
  },
  {
   "cell_type": "code",
   "execution_count": 102,
   "metadata": {},
   "outputs": [],
   "source": [
    "def func_c1(x, a):\n",
    "    return a*x\n",
    "\n",
    "def func_c2(x, a):\n",
    "    return a*x**2\n",
    "\n",
    "def func_c3(x, a):\n",
    "    return 1.066986166127336e-07 + a*x**3\n",
    "\n",
    "def func_c4(x, a):\n",
    "    return a*x**4\n",
    "\n",
    "def plot(x_range1, x_range2, x_range3, x_range4):\n",
    "    start1, end1 = x_range1[0], x_range1[1]\n",
    "    start2, end2 = x_range2[0], x_range2[1]\n",
    "    start3, end3 = x_range3[0], x_range3[1]\n",
    "    start4, end4 = x_range4[0], x_range4[1]\n",
    "    \n",
    "    popt1, pcov1 = optimize.curve_fit(func_c1, data_axis1[start1:end1], data_value1[start1:end1], p0=params1) \n",
    "    popt2, pcov2 = optimize.curve_fit(func_c2, data_axis1[start2:end2], data_value2[start2:end2], p0=params2) \n",
    "    popt3, pcov3 = optimize.curve_fit(func_c3, data_axis1[start3:end3], data_value3[start3:end3], p0=params3) \n",
    "    popt4, pcov4 = optimize.curve_fit(func_c4, data_axis1[start4:end4], data_value4[start4:end4], p0=params4) \n",
    "    \n",
    "    y_cf1 = func_c1(data_axis1, *popt1)\n",
    "    y_cf2 = func_c2(data_axis1, *popt2)\n",
    "    y_cf3 = func_c3(data_axis1, *popt3)\n",
    "    y_cf4 = func_c4(data_axis1, *popt4)\n",
    "    \n",
    "    l1.set_ydata(y_cf1)\n",
    "    l2.set_ydata(y_cf2)\n",
    "    l3.set_ydata(y_cf3)\n",
    "    l4.set_ydata(y_cf4)\n",
    "    \n",
    "    p1.set_xdata(data_axis1[start1:end1])\n",
    "    p2.set_xdata(data_axis1[start2:end2])\n",
    "    p3.set_xdata(data_axis1[start3:end3])\n",
    "    p4.set_xdata(data_axis1[start4:end4])\n",
    "    \n",
    "    p1.set_ydata(data_value1[start1:end1])\n",
    "    p2.set_ydata(data_value2[start2:end2])\n",
    "    p3.set_ydata(data_value3[start3:end3])\n",
    "    p4.set_ydata(data_value4[start4:end4])\n",
    "\n",
    "    ax.set_title(\"$n=1, y=$\" + str(np.round(popt1[0], 3)) + \"$x$\\n\" \\\n",
    "                \"$n=2, y=$\" + str(np.round(popt2[0], 3)) + \"$x^2$\\n\" \\\n",
    "                \"$n=3, y=$\" + str(np.round(popt3[0], 3)) + \"$x^3$\\n\" \\\n",
    "                \"$n=4, y=$\" + str(np.round(popt4[0], 3)) + \"$x^4$\")"
   ]
  },
  {
   "cell_type": "markdown",
   "metadata": {},
   "source": [
    "## フィッティング\n",
    "---\n",
    "\n",
    "`optimize.curve_fit`で各種データに対して最小二乗法によりFitします。"
   ]
  },
  {
   "cell_type": "code",
   "execution_count": 111,
   "metadata": {},
   "outputs": [],
   "source": [
    "params1, cov1 = optimize.curve_fit(func_c1, data_axis1, data_value1, p0=[1])\n",
    "params2, cov2 = optimize.curve_fit(func_c2, data_axis1, data_value2, p0=[1])\n",
    "params3, cov3 = optimize.curve_fit(func_c3, data_axis1, data_value3, p0=[1])\n",
    "params4, cov4 = optimize.curve_fit(func_c4, data_axis1, data_value4, p0=[1])\n",
    "\n",
    "y_cf1 = func_c1(data_axis1, *params1)\n",
    "y_cf2 = func_c2(data_axis1, *params2)\n",
    "y_cf3 = func_c3(data_axis1, *params3)\n",
    "y_cf4 = func_c4(data_axis1, *params4)"
   ]
  },
  {
   "cell_type": "markdown",
   "metadata": {},
   "source": [
    "## プロット＆実行\n",
    "---"
   ]
  },
  {
   "cell_type": "code",
   "execution_count": 114,
   "metadata": {},
   "outputs": [
    {
     "data": {
      "application/vnd.jupyter.widget-view+json": {
       "model_id": "2151f848566d4f138e9c04a794f30c0c",
       "version_major": 2,
       "version_minor": 0
      },
      "text/plain": [
       "Canvas(toolbar=Toolbar(toolitems=[('Home', 'Reset original view', 'home', 'home'), ('Back', 'Back to previous …"
      ]
     },
     "metadata": {},
     "output_type": "display_data"
    },
    {
     "data": {
      "application/vnd.jupyter.widget-view+json": {
       "model_id": "c6c691f9e39c43c4ad95d3e93594afb6",
       "version_major": 2,
       "version_minor": 0
      },
      "text/plain": [
       "VBox(children=(HBox(children=(IntRangeSlider(value=(0, 63), description='x_range1: ', max=63), IntRangeSlider(…"
      ]
     },
     "metadata": {},
     "output_type": "display_data"
    }
   ],
   "source": [
    "##### プロットエリアの設定 #####\n",
    "fig = plt.figure(figsize=(8, 8))\n",
    "gs = GridSpec(nrows=1, ncols=1)\n",
    "ax = fig.add_subplot(gs[0, 0])\n",
    "plt.subplots_adjust(top=0.85)\n",
    "#############################\n",
    "\n",
    "##### 軸やラベルの設定 #####\n",
    "ax.grid(True)\n",
    "ax.set_xscale('log')\n",
    "ax.set_yscale('log')\n",
    "ax.set_xlabel(xlabel=\"$\\mathcal{E}_{\\mathrm{ac}}/J$\", fontsize=16)\n",
    "ax.set_ylabel(ylabel=\"$P(n\\Omega)$\", fontsize=16)\n",
    "##########################\n",
    "\n",
    "##### ベースプロットポイントの描画 #####\n",
    "ax.plot(data_axis1, data_value1, \"o\", label=\"$n=1$\")\n",
    "ax.plot(data_axis1, data_value2, \"s\", label=\"$n=2$\")\n",
    "ax.plot(data_axis1, data_value3, \"^\", label=\"$n=3$\")\n",
    "ax.plot(data_axis1, data_value4, \"D\", label=\"$n=4$\")\n",
    "ax.legend()\n",
    "###################################\n",
    "\n",
    "##### Fitに使ったデータ点の描画 #####\n",
    "p1, = ax.plot(data_axis1, data_value1, 'yo', linewidth=1.5)\n",
    "p2, = ax.plot(data_axis1, data_value2, 'ys', linewidth=1.5)\n",
    "p3, = ax.plot(data_axis1, data_value3, 'y^', linewidth=1.5)\n",
    "p4, = ax.plot(data_axis1, data_value4, 'yD', linewidth=1.5)\n",
    "##################################\n",
    "\n",
    "##### Fitしたラインの描画 #####\n",
    "l1, =ax.plot(data_axis1,y_cf1, \"-\")\n",
    "l2, =ax.plot(data_axis1,y_cf2, \"-\")\n",
    "l3, =ax.plot(data_axis1,y_cf3, \"-\")\n",
    "l4, =ax.plot(data_axis1,y_cf4, \"-\")\n",
    "#############################\n",
    "\n",
    "##### スライダーの設定 #####\n",
    "x_range1 = IntRangeSlider(min=0, max=len(data_axis1), step=1, value=[0,len(data_axis1)], description=\"x_range1: \", orientation='horizontal')\n",
    "x_range2 = IntRangeSlider(min=0, max=len(data_axis1), step=1, value=[0,len(data_axis1)], description=\"x_range2: \", orientation='horizontal')\n",
    "x_range3 = IntRangeSlider(min=0, max=len(data_axis1), step=1, value=[0,len(data_axis1)], description=\"x_range3: \", orientation='horizontal')\n",
    "x_range4 = IntRangeSlider(min=0, max=len(data_axis1), step=1, value=[0,len(data_axis1)], description=\"x_range4: \", orientation='horizontal')\n",
    "#########################            \n",
    "\n",
    "##### インタラクティブ描画の本体部分 #####\n",
    "interactive(plot, x_range1=x_range1, x_range2=x_range2, x_range3=x_range3, x_range4=x_range4)\n",
    "#####################################\n",
    "\n",
    "##### スライダーをどういうふうに並べるかの設定 #####\n",
    "hbox1 = HBox([x_range1, x_range2])\n",
    "hbox2 = HBox([x_range3, x_range4])\n",
    "ui = VBox([hbox1, hbox2])\n",
    "#############################################\n",
    "\n",
    "##### スライダーの描画 #####\n",
    "display(ui)\n",
    "#########################"
   ]
  },
  {
   "cell_type": "code",
   "execution_count": null,
   "metadata": {},
   "outputs": [],
   "source": []
  }
 ],
 "metadata": {
  "kernelspec": {
   "display_name": "Python 3",
   "language": "python",
   "name": "python3"
  },
  "language_info": {
   "codemirror_mode": {
    "name": "ipython",
    "version": 3
   },
   "file_extension": ".py",
   "mimetype": "text/x-python",
   "name": "python",
   "nbconvert_exporter": "python",
   "pygments_lexer": "ipython3",
   "version": "3.9.0"
  }
 },
 "nbformat": 4,
 "nbformat_minor": 4
}
